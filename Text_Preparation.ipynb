{
  "nbformat": 4,
  "nbformat_minor": 0,
  "metadata": {
    "colab": {
      "provenance": []
    },
    "kernelspec": {
      "name": "python3",
      "display_name": "Python 3"
    },
    "language_info": {
      "name": "python"
    }
  },
  "cells": [
    {
      "cell_type": "code",
      "execution_count": 1,
      "metadata": {
        "id": "01FEG4DbGKRN"
      },
      "outputs": [],
      "source": [
        "corpus = '''The IPL is a Twenty20 cricket league, the most popular in the world,\n",
        "featuring ten city-based franchises battling it out annually in India.\n",
        "Founded in 2007, it quickly rose to fame with its fast-paced action,\n",
        "star-studded players, and glamorous atmosphere.Matches are short and explosive,\n",
        "lasting just three hours, making them perfect for modern attention spans.\n",
        "Global cricket icons like Virat Kohli, Rohit Sharma, and David Warner clash,\n",
        "showcasing their skills in a condensed format. Beyond the on-field action,\n",
        "the IPL thrives on its entertainment value. Cheerleaders, Bollywood celebrities,\n",
        "and extravagant opening ceremonies add to the spectacle. It's not just cricket;\n",
        "it's a cultural phenomenon, attracting millions of viewers and fueling a\n",
        "multi-billion dollar industry. The economic impact is undeniable.\n",
        "The IPL contributes significantly to India's GDP, generates jobs, and fuels\n",
        "the growth of other sports leagues. It's a breeding ground for young talent,\n",
        "providing them with a platform to shine and potentially reach the international\n",
        "stage. However, the IPL isn't without its challenges. Concerns about match-fixing,\n",
        "player fatigue, and franchise ownership remain. Despite these, the IPL's\n",
        "popularity shows no signs of waning. Its ability to blend sport, entertainment,\n",
        "and commerce makes it a powerful force, not just in India, but on the global sporting stage.'''"
      ]
    },
    {
      "cell_type": "code",
      "source": [
        "# Sentence tokenize\n",
        "import nltk\n",
        "nltk.download('punkt_tab')\n",
        "from nltk.tokenize import sent_tokenize, word_tokenize\n",
        "sentences = sent_tokenize(corpus)"
      ],
      "metadata": {
        "colab": {
          "base_uri": "https://localhost:8080/"
        },
        "id": "MnGkMHjiGVpv",
        "outputId": "0b75c509-df68-46c3-9079-f913164c4a32"
      },
      "execution_count": 2,
      "outputs": [
        {
          "output_type": "stream",
          "name": "stderr",
          "text": [
            "[nltk_data] Downloading package punkt_tab to /root/nltk_data...\n",
            "[nltk_data]   Unzipping tokenizers/punkt_tab.zip.\n"
          ]
        }
      ]
    },
    {
      "cell_type": "code",
      "source": [
        "n = 1\n",
        "for sentence in sentences:\n",
        "    print(f'senetence_{n}:',sentence)\n",
        "    print()\n",
        "    n += 1"
      ],
      "metadata": {
        "colab": {
          "base_uri": "https://localhost:8080/"
        },
        "id": "WLZjigRwGxRM",
        "outputId": "160194ff-193c-48cf-ed98-7b91a5a7014f"
      },
      "execution_count": null,
      "outputs": [
        {
          "output_type": "stream",
          "name": "stdout",
          "text": [
            "senetence_1: The IPL is a Twenty20 cricket league, the most popular in the world,\n",
            "featuring ten city-based franchises battling it out annually in India.\n",
            "\n",
            "senetence_2: Founded in 2007, it quickly rose to fame with its fast-paced action,\n",
            "star-studded players, and glamorous atmosphere.Matches are short and explosive,\n",
            "lasting just three hours, making them perfect for modern attention spans.\n",
            "\n",
            "senetence_3: Global cricket icons like Virat Kohli, Rohit Sharma, and David Warner clash,\n",
            "showcasing their skills in a condensed format.\n",
            "\n",
            "senetence_4: Beyond the on-field action,\n",
            "the IPL thrives on its entertainment value.\n",
            "\n",
            "senetence_5: Cheerleaders, Bollywood celebrities,\n",
            "and extravagant opening ceremonies add to the spectacle.\n",
            "\n",
            "senetence_6: It's not just cricket;\n",
            "it's a cultural phenomenon, attracting millions of viewers and fueling a\n",
            "multi-billion dollar industry.\n",
            "\n",
            "senetence_7: The economic impact is undeniable.\n",
            "\n",
            "senetence_8: The IPL contributes significantly to India's GDP, generates jobs, and fuels\n",
            "the growth of other sports leagues.\n",
            "\n",
            "senetence_9: It's a breeding ground for young talent,\n",
            "providing them with a platform to shine and potentially reach the international\n",
            "stage.\n",
            "\n",
            "senetence_10: However, the IPL isn't without its challenges.\n",
            "\n",
            "senetence_11: Concerns about match-fixing,\n",
            "player fatigue, and franchise ownership remain.\n",
            "\n",
            "senetence_12: Despite these, the IPL's\n",
            "popularity shows no signs of waning.\n",
            "\n",
            "senetence_13: Its ability to blend sport, entertainment,\n",
            "and commerce makes it a powerful force, not just in India, but on the global sporting stage.\n",
            "\n"
          ]
        }
      ]
    },
    {
      "cell_type": "code",
      "source": [
        "# import stopwords\n",
        "from nltk.corpus import stopwords\n",
        "nltk.download('stopwords')"
      ],
      "metadata": {
        "colab": {
          "base_uri": "https://localhost:8080/"
        },
        "id": "lM39x15WH7tf",
        "outputId": "dd626f31-b88d-480e-ebee-7003490999b9"
      },
      "execution_count": 3,
      "outputs": [
        {
          "output_type": "stream",
          "name": "stderr",
          "text": [
            "[nltk_data] Downloading package stopwords to /root/nltk_data...\n",
            "[nltk_data]   Unzipping corpora/stopwords.zip.\n"
          ]
        },
        {
          "output_type": "execute_result",
          "data": {
            "text/plain": [
              "True"
            ]
          },
          "metadata": {},
          "execution_count": 3
        }
      ]
    },
    {
      "cell_type": "code",
      "source": [
        "# list of all stopwords in english\n",
        "stopwords.words('english')"
      ],
      "metadata": {
        "colab": {
          "base_uri": "https://localhost:8080/"
        },
        "collapsed": true,
        "id": "3oPbFsvyICEQ",
        "outputId": "e26b97a9-9011-401f-be19-55bea11dd0a2"
      },
      "execution_count": 4,
      "outputs": [
        {
          "output_type": "execute_result",
          "data": {
            "text/plain": [
              "['a',\n",
              " 'about',\n",
              " 'above',\n",
              " 'after',\n",
              " 'again',\n",
              " 'against',\n",
              " 'ain',\n",
              " 'all',\n",
              " 'am',\n",
              " 'an',\n",
              " 'and',\n",
              " 'any',\n",
              " 'are',\n",
              " 'aren',\n",
              " \"aren't\",\n",
              " 'as',\n",
              " 'at',\n",
              " 'be',\n",
              " 'because',\n",
              " 'been',\n",
              " 'before',\n",
              " 'being',\n",
              " 'below',\n",
              " 'between',\n",
              " 'both',\n",
              " 'but',\n",
              " 'by',\n",
              " 'can',\n",
              " 'couldn',\n",
              " \"couldn't\",\n",
              " 'd',\n",
              " 'did',\n",
              " 'didn',\n",
              " \"didn't\",\n",
              " 'do',\n",
              " 'does',\n",
              " 'doesn',\n",
              " \"doesn't\",\n",
              " 'doing',\n",
              " 'don',\n",
              " \"don't\",\n",
              " 'down',\n",
              " 'during',\n",
              " 'each',\n",
              " 'few',\n",
              " 'for',\n",
              " 'from',\n",
              " 'further',\n",
              " 'had',\n",
              " 'hadn',\n",
              " \"hadn't\",\n",
              " 'has',\n",
              " 'hasn',\n",
              " \"hasn't\",\n",
              " 'have',\n",
              " 'haven',\n",
              " \"haven't\",\n",
              " 'having',\n",
              " 'he',\n",
              " \"he'd\",\n",
              " \"he'll\",\n",
              " 'her',\n",
              " 'here',\n",
              " 'hers',\n",
              " 'herself',\n",
              " \"he's\",\n",
              " 'him',\n",
              " 'himself',\n",
              " 'his',\n",
              " 'how',\n",
              " 'i',\n",
              " \"i'd\",\n",
              " 'if',\n",
              " \"i'll\",\n",
              " \"i'm\",\n",
              " 'in',\n",
              " 'into',\n",
              " 'is',\n",
              " 'isn',\n",
              " \"isn't\",\n",
              " 'it',\n",
              " \"it'd\",\n",
              " \"it'll\",\n",
              " \"it's\",\n",
              " 'its',\n",
              " 'itself',\n",
              " \"i've\",\n",
              " 'just',\n",
              " 'll',\n",
              " 'm',\n",
              " 'ma',\n",
              " 'me',\n",
              " 'mightn',\n",
              " \"mightn't\",\n",
              " 'more',\n",
              " 'most',\n",
              " 'mustn',\n",
              " \"mustn't\",\n",
              " 'my',\n",
              " 'myself',\n",
              " 'needn',\n",
              " \"needn't\",\n",
              " 'no',\n",
              " 'nor',\n",
              " 'not',\n",
              " 'now',\n",
              " 'o',\n",
              " 'of',\n",
              " 'off',\n",
              " 'on',\n",
              " 'once',\n",
              " 'only',\n",
              " 'or',\n",
              " 'other',\n",
              " 'our',\n",
              " 'ours',\n",
              " 'ourselves',\n",
              " 'out',\n",
              " 'over',\n",
              " 'own',\n",
              " 're',\n",
              " 's',\n",
              " 'same',\n",
              " 'shan',\n",
              " \"shan't\",\n",
              " 'she',\n",
              " \"she'd\",\n",
              " \"she'll\",\n",
              " \"she's\",\n",
              " 'should',\n",
              " 'shouldn',\n",
              " \"shouldn't\",\n",
              " \"should've\",\n",
              " 'so',\n",
              " 'some',\n",
              " 'such',\n",
              " 't',\n",
              " 'than',\n",
              " 'that',\n",
              " \"that'll\",\n",
              " 'the',\n",
              " 'their',\n",
              " 'theirs',\n",
              " 'them',\n",
              " 'themselves',\n",
              " 'then',\n",
              " 'there',\n",
              " 'these',\n",
              " 'they',\n",
              " \"they'd\",\n",
              " \"they'll\",\n",
              " \"they're\",\n",
              " \"they've\",\n",
              " 'this',\n",
              " 'those',\n",
              " 'through',\n",
              " 'to',\n",
              " 'too',\n",
              " 'under',\n",
              " 'until',\n",
              " 'up',\n",
              " 've',\n",
              " 'very',\n",
              " 'was',\n",
              " 'wasn',\n",
              " \"wasn't\",\n",
              " 'we',\n",
              " \"we'd\",\n",
              " \"we'll\",\n",
              " \"we're\",\n",
              " 'were',\n",
              " 'weren',\n",
              " \"weren't\",\n",
              " \"we've\",\n",
              " 'what',\n",
              " 'when',\n",
              " 'where',\n",
              " 'which',\n",
              " 'while',\n",
              " 'who',\n",
              " 'whom',\n",
              " 'why',\n",
              " 'will',\n",
              " 'with',\n",
              " 'won',\n",
              " \"won't\",\n",
              " 'wouldn',\n",
              " \"wouldn't\",\n",
              " 'y',\n",
              " 'you',\n",
              " \"you'd\",\n",
              " \"you'll\",\n",
              " 'your',\n",
              " \"you're\",\n",
              " 'yours',\n",
              " 'yourself',\n",
              " 'yourselves',\n",
              " \"you've\"]"
            ]
          },
          "metadata": {},
          "execution_count": 4
        }
      ]
    },
    {
      "cell_type": "code",
      "source": [
        "# stemming\n",
        "import string\n",
        "from nltk.stem import PorterStemmer\n",
        "stem = PorterStemmer().stem"
      ],
      "metadata": {
        "id": "ZB27FCCiIRPk"
      },
      "execution_count": 5,
      "outputs": []
    },
    {
      "cell_type": "code",
      "source": [
        "# looping the snetence to remove stop words and stem the words\n",
        "\n",
        "for i in range(len(sentences)):\n",
        "    words = word_tokenize(sentences[i])\n",
        "    words = [stem(word) for word in words if str.lower(word) not in stopwords.words('english') and word not in string.punctuation]\n",
        "    sentences[i] = ' '.join(words)\n",
        "\n",
        "sentences"
      ],
      "metadata": {
        "colab": {
          "base_uri": "https://localhost:8080/"
        },
        "id": "5SoobVfAIX-l",
        "outputId": "99a3545c-38f5-4166-bb8a-eb46d6ef8a43"
      },
      "execution_count": null,
      "outputs": [
        {
          "output_type": "execute_result",
          "data": {
            "text/plain": [
              "['ipl twenty20 cricket leagu popular world featur ten city-bas franchis battl annual india',\n",
              " 'found 2007 quickli rose fame fast-pac action star-stud player glamor atmosphere.match short explos last three hour make perfect modern attent span',\n",
              " 'global cricket icon like virat kohli rohit sharma david warner clash showcas skill condens format',\n",
              " 'beyond on-field action ipl thrive entertain valu',\n",
              " 'cheerlead bollywood celebr extravag open ceremoni add spectacl',\n",
              " \"'s cricket 's cultur phenomenon attract million viewer fuel multi-billion dollar industri\",\n",
              " 'econom impact undeni',\n",
              " \"ipl contribut significantli india 's gdp gener job fuel growth sport leagu\",\n",
              " \"'s breed ground young talent provid platform shine potenti reach intern stage\",\n",
              " \"howev ipl n't without challeng\",\n",
              " 'concern match-fix player fatigu franchis ownership remain',\n",
              " \"despit ipl 's popular show sign wane\",\n",
              " 'abil blend sport entertain commerc make power forc india global sport stage']"
            ]
          },
          "metadata": {},
          "execution_count": 49
        }
      ]
    },
    {
      "cell_type": "code",
      "source": [
        "# Lemmatization\n",
        "from nltk.stem import WordNetLemmatizer\n",
        "nltk.download('wordnet')\n",
        "lemmas = WordNetLemmatizer().lemmatize"
      ],
      "metadata": {
        "colab": {
          "base_uri": "https://localhost:8080/"
        },
        "id": "eVkAmpGtNtIm",
        "outputId": "3511d4d3-4af0-4267-ecc4-63b588c9ab5d"
      },
      "execution_count": null,
      "outputs": [
        {
          "output_type": "stream",
          "name": "stderr",
          "text": [
            "[nltk_data] Downloading package wordnet to /root/nltk_data...\n"
          ]
        }
      ]
    },
    {
      "cell_type": "code",
      "source": [
        "# looping the sentence to remove stop words and lematize the words\n",
        "\n",
        "l_sentence = sent_tokenize(corpus)\n",
        "for i in range(len(l_sentence)):\n",
        "    words = word_tokenize(l_sentence[i])\n",
        "    words = [lemmas(word.lower(), pos='v') for word in words if str.lower(word) not in stopwords.words('english') and word not in string.punctuation]\n",
        "    l_sentence[i] = ' '.join(words)\n",
        "\n",
        "l_sentence"
      ],
      "metadata": {
        "colab": {
          "base_uri": "https://localhost:8080/"
        },
        "id": "O9hmYdMnNmWp",
        "outputId": "904b463b-3ed9-49a0-86b7-7c0ee4c89240"
      },
      "execution_count": null,
      "outputs": [
        {
          "output_type": "execute_result",
          "data": {
            "text/plain": [
              "['ipl twenty20 cricket league popular world feature ten city-based franchise battle annually india',\n",
              " 'found 2007 quickly rise fame fast-paced action star-studded players glamorous atmosphere.matches short explosive last three hours make perfect modern attention span',\n",
              " 'global cricket icons like virat kohli rohit sharma david warner clash showcasing skills condense format',\n",
              " 'beyond on-field action ipl thrive entertainment value',\n",
              " 'cheerleaders bollywood celebrities extravagant open ceremonies add spectacle',\n",
              " \"'s cricket 's cultural phenomenon attract millions viewers fuel multi-billion dollar industry\",\n",
              " 'economic impact undeniable',\n",
              " \"ipl contribute significantly india 's gdp generate job fuel growth sport league\",\n",
              " \"'s breed grind young talent provide platform shine potentially reach international stage\",\n",
              " \"however ipl n't without challenge\",\n",
              " 'concern match-fixing player fatigue franchise ownership remain',\n",
              " \"despite ipl 's popularity show sign wan\",\n",
              " 'ability blend sport entertainment commerce make powerful force india global sport stage']"
            ]
          },
          "metadata": {},
          "execution_count": 52
        }
      ]
    },
    {
      "cell_type": "code",
      "source": [
        "nltk.download('averaged_perceptron_tagger_eng')"
      ],
      "metadata": {
        "colab": {
          "base_uri": "https://localhost:8080/"
        },
        "id": "ptrmMlBqOilH",
        "outputId": "e210f260-a0b7-488b-d743-a9bb7f346586"
      },
      "execution_count": null,
      "outputs": [
        {
          "output_type": "stream",
          "name": "stderr",
          "text": [
            "[nltk_data] Downloading package averaged_perceptron_tagger_eng to\n",
            "[nltk_data]     /root/nltk_data...\n",
            "[nltk_data]   Unzipping taggers/averaged_perceptron_tagger_eng.zip.\n"
          ]
        },
        {
          "output_type": "execute_result",
          "data": {
            "text/plain": [
              "True"
            ]
          },
          "metadata": {},
          "execution_count": 56
        }
      ]
    },
    {
      "cell_type": "code",
      "source": [
        "print(nltk.pos_tag('This is Natural Language Procesing Class hosted by learnbay'.lower().split()))"
      ],
      "metadata": {
        "colab": {
          "base_uri": "https://localhost:8080/"
        },
        "id": "Z_wErK38Ov5j",
        "outputId": "8dc6f8d6-4582-43d5-8403-96dacc8935d3"
      },
      "execution_count": null,
      "outputs": [
        {
          "output_type": "stream",
          "name": "stdout",
          "text": [
            "[('this', 'DT'), ('is', 'VBZ'), ('natural', 'JJ'), ('language', 'NN'), ('procesing', 'VBG'), ('class', 'NN'), ('hosted', 'VBN'), ('by', 'IN'), ('learnbay', 'NN')]\n"
          ]
        }
      ]
    }
  ]
}